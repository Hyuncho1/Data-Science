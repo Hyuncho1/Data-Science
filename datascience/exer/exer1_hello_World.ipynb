{
 "cells": [
  {
   "cell_type": "code",
   "execution_count": 43,
   "id": "3367883a-8524-4de1-9b78-98fae9c69782",
   "metadata": {},
   "outputs": [
    {
     "name": "stdout",
     "output_type": "stream",
     "text": [
      "Hello World\n",
      "100\n",
      "3.14\n",
      "My name is Hyun Cho and I'm sick\n"
     ]
    }
   ],
   "source": [
    "\"\"\"\n",
    "print() Function\n",
    "\"\"\"\n",
    "\n",
    "print(\"Hello World\")\n",
    "print(100)\n",
    "pi = 3.14\n",
    "print(pi)\n",
    "\n",
    "introduce = \"My name is\" \n",
    "name = \" Hyun Cho\"\n",
    "\n",
    "print(introduce + name + \" and I'm sick\")"
   ]
  },
  {
   "cell_type": "code",
   "execution_count": 21,
   "id": "a58d9f46-59c7-4614-8e28-4c279e001bc8",
   "metadata": {},
   "outputs": [
    {
     "name": "stdout",
     "output_type": "stream",
     "text": [
      "a\n"
     ]
    }
   ],
   "source": [
    "print(\"a\")"
   ]
  },
  {
   "cell_type": "code",
   "execution_count": 28,
   "id": "682a0ebb-d4ea-407a-aafd-036195d78856",
   "metadata": {},
   "outputs": [],
   "source": [
    "\"\"\"\n",
    "Variables\n",
    "\"\"\"\n",
    "\n",
    "user_name = \"Hyun Cho\"\n",
    "user_id = 201837011\n",
    "user_email = 'hyungcan@hs.ac.kr'\n",
    "is_student = True\n",
    "my_old = 23\n",
    "is_adult = True\n",
    "my_hobby = \"Computer Game\""
   ]
  },
  {
   "cell_type": "code",
   "execution_count": 32,
   "id": "b8b3fb55-3481-4b5c-a406-2c25b3c0dda4",
   "metadata": {},
   "outputs": [
    {
     "name": "stdout",
     "output_type": "stream",
     "text": [
      "x =  1\n",
      "Address of x:  140707901810480\n",
      "x =  2\n",
      "Address of x:  140707901810512\n"
     ]
    }
   ],
   "source": [
    "\"\"\"\n",
    "Varialbe Assignment\n",
    "\"\"\"\n",
    "\n",
    "x = 1\n",
    "print('x = ', x)\n",
    "print(\"Address of x: \", id(x))\n",
    "\n",
    "x = 2\n",
    "print('x = ', x)\n",
    "print(\"Address of x: \", id(x))"
   ]
  },
  {
   "cell_type": "code",
   "execution_count": 35,
   "id": "863038fe-c0fa-4f37-9018-06544a0037aa",
   "metadata": {},
   "outputs": [],
   "source": [
    "\"\"\"\n",
    "Data Types: Integers\n",
    "\"\"\"\n",
    "\n",
    "# 본인 집에 있는 사물의 개수를 정수 유형의 변수로 표현하시오\n",
    "tv = 2\n",
    "broken_electricfan = -1\n",
    "chest = 5\n",
    "clock = 3"
   ]
  },
  {
   "cell_type": "code",
   "execution_count": 40,
   "id": "f51c62db-8bc9-4bcd-b7ca-a296f5c35a36",
   "metadata": {},
   "outputs": [],
   "source": [
    "\"\"\"\n",
    "Data Types: Real Numbers\n",
    "\"\"\"\n",
    "\n",
    "pi = 3.14\n",
    "usd_cny_excgange = 6.45\n",
    "gasoline_index = 1,641.84\n",
    "Shangchi_viewrs = 1,226,502"
   ]
  },
  {
   "cell_type": "code",
   "execution_count": 52,
   "id": "6a8553f8-69f3-47ad-89c6-7220d5af5b7c",
   "metadata": {},
   "outputs": [
    {
     "name": "stdout",
     "output_type": "stream",
     "text": [
      " Messi  Balenciaga  Pubg \n"
     ]
    }
   ],
   "source": [
    "favorite_SoccerPlayer = \" Messi \"\n",
    "favorite_brand = \" Balenciaga \"\n",
    "favorite_game = \" Pubg \"\n",
    "favorites = favorite_SoccerPlayer + favorite_brand  + favorite_game\n",
    "print(favorites)"
   ]
  }
 ],
 "metadata": {
  "kernelspec": {
   "display_name": "Python 3 (ipykernel)",
   "language": "python",
   "name": "python3"
  },
  "language_info": {
   "codemirror_mode": {
    "name": "ipython",
    "version": 3
   },
   "file_extension": ".py",
   "mimetype": "text/x-python",
   "name": "python",
   "nbconvert_exporter": "python",
   "pygments_lexer": "ipython3",
   "version": "3.8.8"
  }
 },
 "nbformat": 4,
 "nbformat_minor": 5
}
